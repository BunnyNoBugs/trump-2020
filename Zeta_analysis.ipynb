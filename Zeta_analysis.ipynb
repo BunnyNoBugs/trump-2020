{
 "cells": [
  {
   "cell_type": "code",
   "execution_count": 87,
   "metadata": {},
   "outputs": [],
   "source": [
    "import pandas as pd\n",
    "from nltk import word_tokenize\n",
    "from string import punctuation\n",
    "punctuation += '--'"
   ]
  },
  {
   "cell_type": "code",
   "execution_count": 88,
   "metadata": {},
   "outputs": [],
   "source": [
    "def sp(word, G, segment_size=20):\n",
    "    sp = 0\n",
    "    segments = []\n",
    "    for i in range(int(len(G)/segment_size)):\n",
    "        segment = G[segment_size*i:segment_size*(i+1)]\n",
    "        segments.append(segment)\n",
    "    for segment in segments:\n",
    "        if word in segment:\n",
    "            sp += 1\n",
    "    sp = sp / len(segments)\n",
    "    return sp"
   ]
  },
  {
   "cell_type": "code",
   "execution_count": 41,
   "metadata": {},
   "outputs": [],
   "source": [
    "def zeta(word, G1, G2, segment_size=100):\n",
    "    return sp(word, G1, segment_size=segment_size) - sp(word, G2, segment_size=segment_size)"
   ]
  },
  {
   "cell_type": "code",
   "execution_count": 44,
   "metadata": {},
   "outputs": [],
   "source": [
    "tweet_texts = pd.read_csv('data/trumptweets-1515775693.tweets.csv')['text']"
   ]
  },
  {
   "cell_type": "code",
   "execution_count": 170,
   "metadata": {},
   "outputs": [],
   "source": [
    "people = ['@BarackObama',\n",
    "          '@MittRomney',\n",
    "          '@VPBiden',\n",
    "          '@foxandfriends']"
   ]
  },
  {
   "cell_type": "code",
   "execution_count": 179,
   "metadata": {},
   "outputs": [],
   "source": [
    "mentions = ['Putin',\n",
    "           'Iraq',\n",
    "           'Russia']"
   ]
  },
  {
   "cell_type": "code",
   "execution_count": 180,
   "metadata": {},
   "outputs": [],
   "source": [
    "tweets_dict = {}\n",
    "\n",
    "for tweet in tweet_texts:\n",
    "    if any([person in tweet for person in people]):\n",
    "        ref_person = people[[person in tweet for person in people].index(True)]\n",
    "        tweet_words = [word for word in word_tokenize(tweet) if word not in punctuation and '@'+word not in people]\n",
    "        if ref_person not in tweets_dict:\n",
    "            tweets_dict[ref_person] = tweet_words\n",
    "        else:\n",
    "            tweets_dict[ref_person].extend(tweet_words)\n",
    "    if any([word in tweet for word in mentions]):\n",
    "        mention = mentions[[word in tweet for word in mentions].index(True)]\n",
    "        tweet_words = [word for word in word_tokenize(tweet) if word not in punctuation\n",
    "                       and '@'+word not in people\n",
    "                       and word not in mentions]\n",
    "        if mention not in tweets_dict:\n",
    "            tweets_dict[mention] = tweet_words\n",
    "        else:\n",
    "            tweets_dict[mention].extend(tweet_words)"
   ]
  },
  {
   "cell_type": "code",
   "execution_count": 187,
   "metadata": {},
   "outputs": [
    {
     "data": {
      "text/plain": [
       "'China'"
      ]
     },
     "execution_count": 187,
     "metadata": {},
     "output_type": "execute_result"
    }
   ],
   "source": [
    "tweets_dict['@BarackObama'][7]"
   ]
  },
  {
   "cell_type": "code",
   "execution_count": 182,
   "metadata": {},
   "outputs": [],
   "source": [
    "words = []\n",
    "\n",
    "for person in tweets_dict:\n",
    "    words.extend(tweets_dict[person])"
   ]
  },
  {
   "cell_type": "code",
   "execution_count": 183,
   "metadata": {},
   "outputs": [],
   "source": [
    "def zetas(opposed):\n",
    "    assert len(opposed) == 2\n",
    "    \n",
    "    zetas_dict = {}\n",
    "    for word in set(words):\n",
    "        G1 = tweets_dict[opposed[0]]\n",
    "        G2 = tweets_dict[opposed[1]]\n",
    "        zetas_dict[word] = zeta(word, G1, G2)\n",
    "    return zetas_dict"
   ]
  },
  {
   "cell_type": "code",
   "execution_count": 184,
   "metadata": {},
   "outputs": [],
   "source": [
    "def oppose(opposed, wordcount=20):\n",
    "    assert len(opposed) == 2\n",
    "    \n",
    "    zetas_dict = zetas(opposed)\n",
    "    zetas_set = {k: v for k, v in sorted(zetas_dict.items(), key=lambda item: item[1])}\n",
    "    words_set = list(zetas_set.keys())\n",
    "    \n",
    "    print(opposed[0].upper())\n",
    "    for word in words_set[:-wordcount:-1]:\n",
    "        print(f'{word}: {zetas_dict[word]}')\n",
    "    print()\n",
    "    print(opposed[1].upper())\n",
    "    for word in words_set[:wordcount]:\n",
    "        print(f'{word}: {zetas_dict[word]}')"
   ]
  },
  {
   "cell_type": "code",
   "execution_count": 185,
   "metadata": {
    "scrolled": true
   },
   "outputs": [
    {
     "name": "stdout",
     "output_type": "stream",
     "text": [
      "@BARACKOBAMA\n",
      "http: 0.6604395604395604\n",
      "cont: 0.4461538461538462\n",
      "'s: 0.29780219780219785\n",
      "debt: 0.27692307692307694\n",
      "jobs: 0.26153846153846155\n",
      "in: 0.2362637362637363\n",
      "Why: 0.2230769230769231\n",
      "China: 0.21868131868131868\n",
      "his: 0.2142857142857143\n",
      "US: 0.2076923076923077\n",
      "are: 0.20109890109890113\n",
      "budget: 0.2\n",
      "over: 0.19560439560439563\n",
      "why: 0.19230769230769232\n",
      "has: 0.18681318681318687\n",
      "discussing: 0.18461538461538463\n",
      "country: 0.17692307692307693\n",
      "campaign: 0.17692307692307693\n",
      "spending: 0.17692307692307693\n",
      "\n",
      "PUTIN\n",
      "President: -0.734065934065934\n",
      "Obama: -0.6725274725274725\n",
      "Vladimir: -0.5\n",
      "you: -0.4637362637362637\n",
      "with: -0.4494505494505494\n",
      "realDonaldTrump: -0.4054945054945055\n",
      "Trump: -0.3978021978021978\n",
      "be: -0.3934065934065934\n",
      "or: -0.3285714285714285\n",
      "I: -0.321978021978022\n",
      "think: -0.31868131868131866\n",
      "him: -0.30549450549450546\n",
      "'': -0.2835164835164835\n",
      "world: -0.2802197802197802\n",
      "``: -0.27802197802197803\n",
      "Russian: -0.2626373626373626\n",
      "at: -0.25384615384615383\n",
      "bad: -0.24725274725274723\n",
      "look: -0.24725274725274723\n",
      "’: -0.24175824175824176\n"
     ]
    }
   ],
   "source": [
    "oppose(['@BarackObama', 'Putin'])"
   ]
  },
  {
   "cell_type": "code",
   "execution_count": 186,
   "metadata": {
    "scrolled": true
   },
   "outputs": [
    {
     "name": "stdout",
     "output_type": "stream",
     "text": [
      "@BARACKOBAMA\n",
      "has: 0.26538461538461544\n",
      "debt: 0.2519230769230769\n",
      "http: 0.24615384615384617\n",
      "in: 0.20769230769230773\n",
      "our: 0.20192307692307693\n",
      "cont: 0.19615384615384618\n",
      "jobs: 0.18653846153846154\n",
      "spending: 0.17692307692307693\n",
      "his: 0.175\n",
      "he: 0.16923076923076918\n",
      "is: 0.16346153846153844\n",
      "China: 0.16153846153846152\n",
      "budget: 0.15000000000000002\n",
      "Keystone: 0.14615384615384616\n",
      "over: 0.13846153846153847\n",
      "n't: 0.13846153846153847\n",
      "gas: 0.13653846153846155\n",
      "US: 0.13269230769230772\n",
      "Now: 0.11923076923076924\n",
      "\n",
      "@MITTROMNEY\n",
      "My: -0.31923076923076926\n",
      "interview: -0.3173076923076923\n",
      "discussing: -0.3153846153846154\n",
      "I: -0.28269230769230774\n",
      "great: -0.2711538461538462\n",
      "amp: -0.25\n",
      "SquawkCNBC: -0.19423076923076923\n",
      "'': -0.1942307692307692\n",
      "Obama: -0.19038461538461537\n",
      "night: -0.18846153846153846\n",
      "Mitt: -0.18653846153846154\n",
      "Great: -0.17692307692307693\n",
      "needs: -0.17692307692307693\n",
      "polls: -0.175\n",
      "election: -0.1692307692307692\n",
      "do: -0.16153846153846152\n",
      "get: -0.15961538461538463\n",
      "who: -0.1576923076923077\n",
      "win: -0.15384615384615385\n",
      "debate: -0.15\n"
     ]
    }
   ],
   "source": [
    "oppose(['@BarackObama', '@MittRomney'])"
   ]
  }
 ],
 "metadata": {
  "kernelspec": {
   "display_name": "Python 3",
   "language": "python",
   "name": "python3"
  },
  "language_info": {
   "codemirror_mode": {
    "name": "ipython",
    "version": 3
   },
   "file_extension": ".py",
   "mimetype": "text/x-python",
   "name": "python",
   "nbconvert_exporter": "python",
   "pygments_lexer": "ipython3",
   "version": "3.7.6"
  }
 },
 "nbformat": 4,
 "nbformat_minor": 4
}
