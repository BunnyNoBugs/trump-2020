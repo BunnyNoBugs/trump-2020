{
 "cells": [
  {
   "cell_type": "code",
   "execution_count": 233,
   "metadata": {},
   "outputs": [],
   "source": [
    "import pandas as pd\n",
    "from nltk import word_tokenize\n",
    "from string import punctuation\n",
    "punctuation += \"--...''``\""
   ]
  },
  {
   "cell_type": "code",
   "execution_count": 88,
   "metadata": {},
   "outputs": [],
   "source": [
    "def sp(word, G, segment_size=20):\n",
    "    sp = 0\n",
    "    segments = []\n",
    "    for i in range(int(len(G)/segment_size)):\n",
    "        segment = G[segment_size*i:segment_size*(i+1)]\n",
    "        segments.append(segment)\n",
    "    for segment in segments:\n",
    "        if word in segment:\n",
    "            sp += 1\n",
    "    sp = sp / len(segments)\n",
    "    return sp"
   ]
  },
  {
   "cell_type": "code",
   "execution_count": 41,
   "metadata": {},
   "outputs": [],
   "source": [
    "def zeta(word, G1, G2, segment_size=100):\n",
    "    return sp(word, G1, segment_size=segment_size) - sp(word, G2, segment_size=segment_size)"
   ]
  },
  {
   "cell_type": "code",
   "execution_count": 207,
   "metadata": {},
   "outputs": [],
   "source": [
    "is_retweet = pd.read_csv('data/trumptweets-1515775693.tweets.csv')['is_retweet']\n",
    "tweet_texts = pd.read_csv('data/trumptweets-1515775693.tweets.csv')['text']\n",
    "tweet_texts = tweet_texts[(~ is_retweet)]"
   ]
  },
  {
   "cell_type": "code",
   "execution_count": 241,
   "metadata": {},
   "outputs": [],
   "source": [
    "people = ['@BarackObama',\n",
    "          '@MittRomney',\n",
    "          '@VPBiden',\n",
    "          '@foxandfriends',\n",
    "          '@FoxNews',\n",
    "          '@CNN',\n",
    "          '@IvankaTrump',\n",
    "          '@EricTrump',\n",
    "          '@billmaher',\n",
    "          '@oreillyfactor',\n",
    "          '@megynkelly',\n",
    "          '@seanhannity']\n",
    "\n",
    "mentions = ['Putin',\n",
    "           'Iraq',\n",
    "           'Russia',\n",
    "           'Mexico']\n",
    "\n",
    "tweets_dict = {}\n",
    "for tweet in tweet_texts:\n",
    "    if any([person in tweet for person in people]):\n",
    "        ref_person = people[[person in tweet for person in people].index(True)]\n",
    "        tweet_words = [word for word in word_tokenize(tweet) if word not in punctuation and '@'+word not in people]\n",
    "        if ref_person not in tweets_dict:\n",
    "            tweets_dict[ref_person] = tweet_words\n",
    "        else:\n",
    "            tweets_dict[ref_person].extend(tweet_words)\n",
    "    if any([word in tweet for word in mentions]):\n",
    "        mention = mentions[[word in tweet for word in mentions].index(True)]\n",
    "        tweet_words = [word for word in word_tokenize(tweet) if word not in punctuation\n",
    "                       and '@'+word not in people\n",
    "                       and word not in mentions]\n",
    "        if mention not in tweets_dict:\n",
    "            tweets_dict[mention] = tweet_words\n",
    "        else:\n",
    "            tweets_dict[mention].extend(tweet_words)\n",
    "\n",
    "words = []\n",
    "for key in tweets_dict:\n",
    "    words.extend(tweets_dict[person])"
   ]
  },
  {
   "cell_type": "code",
   "execution_count": 231,
   "metadata": {},
   "outputs": [
    {
     "data": {
      "text/plain": [
       "'China'"
      ]
     },
     "execution_count": 231,
     "metadata": {},
     "output_type": "execute_result"
    }
   ],
   "source": [
    "tweets_dict['@BarackObama'][7]"
   ]
  },
  {
   "cell_type": "code",
   "execution_count": 183,
   "metadata": {},
   "outputs": [],
   "source": [
    "def zetas(opposed):\n",
    "    assert len(opposed) == 2\n",
    "    \n",
    "    zetas_dict = {}\n",
    "    for word in set(words):\n",
    "        G1 = tweets_dict[opposed[0]]\n",
    "        G2 = tweets_dict[opposed[1]]\n",
    "        zetas_dict[word] = zeta(word, G1, G2)\n",
    "    return zetas_dict"
   ]
  },
  {
   "cell_type": "code",
   "execution_count": 184,
   "metadata": {},
   "outputs": [],
   "source": [
    "def oppose(opposed, wordcount=20):\n",
    "    assert len(opposed) == 2\n",
    "    \n",
    "    zetas_dict = zetas(opposed)\n",
    "    zetas_set = {k: v for k, v in sorted(zetas_dict.items(), key=lambda item: item[1])}\n",
    "    words_set = list(zetas_set.keys())\n",
    "    \n",
    "    print(opposed[0].upper())\n",
    "    for word in words_set[:-wordcount:-1]:\n",
    "        print(f'{word}: {zetas_dict[word]}')\n",
    "    print()\n",
    "    print(opposed[1].upper())\n",
    "    for word in words_set[:wordcount]:\n",
    "        print(f'{word}: {zetas_dict[word]}')"
   ]
  },
  {
   "cell_type": "code",
   "execution_count": 244,
   "metadata": {
    "scrolled": true
   },
   "outputs": [
    {
     "name": "stdout",
     "output_type": "stream",
     "text": [
      "@BARACKOBAMA\n",
      "http: 0.6670416197975253\n",
      "'s: 0.2868391451068617\n",
      "China: 0.23509561304836896\n",
      "over: 0.1957255343082115\n",
      "has: 0.19347581552305965\n",
      "his: 0.17829021372328463\n",
      "The: 0.17829021372328463\n",
      "in: 0.17660292463442073\n",
      "are: 0.17154105736782901\n",
      "My: 0.14116985376827898\n",
      "He: 0.13104611923509563\n",
      "now: 0.11754780652418448\n",
      "from: 0.1169853768278965\n",
      "us: 0.109673790776153\n",
      "more: 0.10854893138357705\n",
      "the: 0.10348706411698538\n",
      "did: 0.0860517435320585\n",
      "is: 0.07986501687289094\n",
      "1: 0.07874015748031496\n",
      "\n",
      "PUTIN\n",
      "Obama: -0.6839145106861642\n",
      "President: -0.5883014623172104\n",
      "Vladimir: -0.5\n",
      "with: -0.4955005624296963\n",
      "Trump: -0.468503937007874\n",
      "realDonaldTrump: -0.41282339707536553\n",
      "you: -0.39763779527559057\n",
      "be: -0.3841394825646794\n",
      "think: -0.3177727784026997\n",
      "world: -0.2705286839145107\n",
      "Russian: -0.2620922384701912\n",
      "or: -0.2547806524184477\n",
      "’: -0.2547806524184477\n",
      "look: -0.24634420697412823\n",
      "bad: -0.24634420697412823\n",
      "will: -0.24184476940382454\n",
      "for: -0.23453318335208095\n",
      "I: -0.23340832395950512\n",
      "what: -0.23115860517435322\n",
      "him: -0.23115860517435322\n"
     ]
    }
   ],
   "source": [
    "oppose(['@BarackObama', 'Putin'])"
   ]
  },
  {
   "cell_type": "code",
   "execution_count": 245,
   "metadata": {
    "scrolled": true
   },
   "outputs": [
    {
     "name": "stdout",
     "output_type": "stream",
     "text": [
      "@BARACKOBAMA\n",
      "has: 0.2630728851201292\n",
      "http: 0.20916616192206738\n",
      "his: 0.20209973753280847\n",
      "our: 0.19846557641833232\n",
      "China: 0.19846557641833232\n",
      "he: 0.1802947708459519\n",
      "in: 0.15828790631940237\n",
      "is: 0.1421360791439532\n",
      "while: 0.1160912578235413\n",
      "n't: 0.10963052695336156\n",
      "over: 0.10781344639612356\n",
      "oil: 0.09045023218251565\n",
      "that: 0.08964264082374318\n",
      "failed: 0.08661417322834646\n",
      "deal: 0.08661417322834646\n",
      "world: 0.08661417322834646\n",
      "such: 0.08661417322834646\n",
      "How: 0.08661417322834646\n",
      "its: 0.08661417322834646\n",
      "\n",
      "@MITTROMNEY\n",
      "My: -0.32586311326468803\n",
      "interview: -0.29820310922673127\n",
      "great: -0.27821522309711283\n",
      "I: -0.25721784776902884\n",
      "amp: -0.231173026448617\n",
      "Obama: -0.21138703815869173\n",
      "who: -0.2033111245709671\n",
      "and: -0.19664849586109434\n",
      "night: -0.19341813042600442\n",
      "Mitt: -0.19139915202907332\n",
      "do: -0.18372703412073488\n",
      "needs: -0.18150615788411062\n",
      "election: -0.16596002422774078\n",
      "win: -0.15788411064001615\n",
      "Great: -0.15586513224308501\n",
      "on: -0.1393095093882496\n",
      "get: -0.13830002018978393\n",
      "good: -0.13426206339592167\n",
      "We: -0.12840702604482135\n",
      "am: -0.12638804764789016\n"
     ]
    }
   ],
   "source": [
    "oppose(['@BarackObama', '@MittRomney'])"
   ]
  },
  {
   "cell_type": "code",
   "execution_count": 243,
   "metadata": {
    "scrolled": true
   },
   "outputs": [
    {
     "name": "stdout",
     "output_type": "stream",
     "text": [
      "MEXICO\n",
      "our: 0.34259259259259256\n",
      "U.S.: 0.34259259259259256\n",
      "be: 0.3416666666666666\n",
      "from: 0.3185185185185185\n",
      "but: 0.29537037037037034\n",
      "will: 0.28055555555555556\n",
      "you: 0.24351851851851847\n",
      "me: 0.23425925925925925\n",
      "U.S: 0.22129629629629627\n",
      "like: 0.22129629629629627\n",
      "we: 0.22037037037037036\n",
      "http: 0.20833333333333331\n",
      "Great: 0.18518518518518517\n",
      "friend: 0.18518518518518517\n",
      "must: 0.17222222222222222\n",
      "s: 0.17222222222222222\n",
      "people: 0.17129629629629628\n",
      "realDonaldTrump: 0.17037037037037034\n",
      "only: 0.16018518518518518\n",
      "\n",
      "RUSSIA\n",
      "Russian: -0.45\n",
      "Obama: -0.2777777777777778\n",
      "election: -0.275\n",
      "was: -0.25277777777777777\n",
      "Fake: -0.25\n",
      "or: -0.22685185185185186\n",
      "Dems: -0.225\n",
      "story: -0.225\n",
      "Clinton: -0.21296296296296297\n",
      "China: -0.20185185185185184\n",
      "up: -0.20092592592592595\n",
      "to: -0.1972222222222222\n",
      "now: -0.18981481481481483\n",
      "News: -0.18796296296296297\n",
      "Iran: -0.175\n",
      "with: -0.16851851851851857\n",
      "that: -0.16759259259259257\n",
      "is: -0.15925925925925932\n",
      "just: -0.15185185185185185\n",
      "Trump: -0.15185185185185185\n"
     ]
    }
   ],
   "source": [
    "oppose(['Mexico', 'Russia'])"
   ]
  },
  {
   "cell_type": "code",
   "execution_count": 238,
   "metadata": {
    "scrolled": true
   },
   "outputs": [
    {
     "name": "stdout",
     "output_type": "stream",
     "text": [
      "@CNN\n",
      "just: 0.22478070175438594\n",
      "The: 0.17214912280701752\n",
      "so: 0.16447368421052633\n",
      "their: 0.16337719298245612\n",
      "get: 0.15021929824561403\n",
      "ca: 0.14035087719298245\n",
      "watch: 0.13157894736842107\n",
      "people: 0.13157894736842107\n",
      "time: 0.12719298245614036\n",
      "We: 0.12390350877192982\n",
      "Just: 0.12390350877192982\n",
      "very: 0.12280701754385964\n",
      "like: 0.12061403508771931\n",
      "numbers: 0.11951754385964913\n",
      "but: 0.11622807017543861\n",
      "failing: 0.10416666666666667\n",
      "nytimes: 0.10416666666666667\n",
      "that: 0.09978070175438603\n",
      "Great: 0.09649122807017543\n",
      "\n",
      "@FOXNEWS\n",
      "with: -0.2883771929824562\n",
      "He: -0.24780701754385967\n",
      "this: -0.20394736842105265\n",
      "My: -0.17982456140350878\n",
      "for: -0.15021929824561397\n",
      "http: -0.13925438596491227\n",
      "America: -0.12719298245614036\n",
      "Obama: -0.11074561403508772\n",
      "2016: -0.11074561403508772\n",
      "https: -0.10964912280701758\n",
      "’: -0.10855263157894737\n",
      "'s: -0.10526315789473684\n",
      "on: -0.10307017543859653\n",
      "Trump2016: -0.10087719298245613\n",
      "”: -0.10087719298245613\n",
      "night: -0.09539473684210525\n",
      "the: -0.0932017543859649\n",
      "w/: -0.09210526315789473\n",
      "“: -0.08771929824561404\n",
      "think: -0.07894736842105263\n"
     ]
    }
   ],
   "source": [
    "oppose(['@CNN', '@FoxNews'])"
   ]
  },
  {
   "cell_type": "code",
   "execution_count": 242,
   "metadata": {
    "scrolled": true
   },
   "outputs": [
    {
     "name": "stdout",
     "output_type": "stream",
     "text": [
      "@MEGYNKELLY\n",
      "do: 0.4548872180451128\n",
      "all: 0.3684210526315789\n",
      "n't: 0.3458646616541353\n",
      "me: 0.3308270676691729\n",
      "other: 0.3157894736842105\n",
      "out: 0.2969924812030075\n",
      "it: 0.25563909774436094\n",
      "see: 0.24436090225563908\n",
      "'s: 0.24060150375939848\n",
      "'ll: 0.21052631578947367\n",
      "ever: 0.21052631578947367\n",
      "totally: 0.21052631578947367\n",
      "back: 0.21052631578947367\n",
      "in: 0.20300751879699247\n",
      "can: 0.19172932330827067\n",
      "now: 0.19172932330827067\n",
      "if: 0.17293233082706766\n",
      "The: 0.17293233082706766\n",
      "crazy: 0.15789473684210525\n",
      "\n",
      "@SEANHANNITY\n",
      "by: -0.41353383458646614\n",
      "Donald: -0.41353383458646614\n",
      "be: -0.3984962406015038\n",
      "Trump2016: -0.37593984962406013\n",
      "his: -0.34210526315789475\n",
      "great: -0.2894736842105263\n",
      "hope: -0.2518796992481203\n",
      "Great: -0.2518796992481203\n",
      "said: -0.23308270676691728\n",
      "were: -0.23308270676691728\n",
      "amp: -0.21804511278195488\n",
      "saying: -0.21428571428571427\n",
      "as: -0.21428571428571427\n",
      "”: -0.21428571428571427\n",
      "leader: -0.21428571428571427\n",
      "him: -0.1992481203007519\n",
      "from: -0.18045112781954886\n",
      "’: -0.18045112781954886\n",
      "President: -0.16165413533834586\n",
      "look: -0.16165413533834586\n"
     ]
    }
   ],
   "source": [
    "oppose(['@megynkelly', '@seanhannity'])"
   ]
  },
  {
   "cell_type": "code",
   "execution_count": 239,
   "metadata": {
    "scrolled": true
   },
   "outputs": [
    {
     "name": "stdout",
     "output_type": "stream",
     "text": [
      "@IVANKATRUMP\n",
      "this: 0.5666666666666667\n",
      "will: 0.2916666666666667\n",
      "like: 0.2916666666666667\n",
      "“: 0.2333333333333333\n",
      "TrumpDoral: 0.20833333333333334\n",
      "the: 0.19999999999999996\n",
      "it: 0.19166666666666668\n",
      "is: 0.19166666666666665\n",
      "me: 0.16666666666666666\n",
      "out: 0.16666666666666666\n",
      "so: 0.16666666666666666\n",
      "should: 0.16666666666666666\n",
      "think: 0.16666666666666666\n",
      "’: 0.15833333333333333\n",
      "n't: 0.15\n",
      "President: 0.15\n",
      "have: 0.1333333333333333\n",
      "be: 0.1333333333333333\n",
      "time: 0.125\n",
      "\n",
      "@ERICTRUMP\n",
      "Trump: -0.38333333333333336\n",
      "very: -0.375\n",
      "with: -0.32499999999999996\n",
      "his: -0.3166666666666667\n",
      "get: -0.2583333333333333\n",
      "my: -0.24166666666666664\n",
      "for: -0.2333333333333334\n",
      "you: -0.2333333333333334\n",
      "that: -0.23333333333333336\n",
      "our: -0.21666666666666667\n",
      "important: -0.2\n",
      "of: -0.19166666666666665\n",
      "The: -0.1833333333333333\n",
      "Great: -0.1833333333333333\n",
      "to: -0.17500000000000004\n",
      "Trump2016: -0.15833333333333335\n",
      "could: -0.15833333333333335\n",
      "always: -0.15833333333333335\n",
      "He: -0.15833333333333335\n",
      "way: -0.15833333333333335\n"
     ]
    }
   ],
   "source": [
    "oppose(['@IvankaTrump', '@EricTrump'])"
   ]
  },
  {
   "cell_type": "code",
   "execution_count": 240,
   "metadata": {
    "scrolled": true
   },
   "outputs": [
    {
     "name": "stdout",
     "output_type": "stream",
     "text": [
      "@BILLMAHER\n",
      "but: 0.5625\n",
      "me: 0.5\n",
      "his: 0.5\n",
      "’: 0.5\n",
      "him: 0.5\n",
      "think: 0.5\n",
      "he: 0.4375\n",
      "has: 0.375\n",
      "like: 0.375\n",
      "am: 0.3125\n",
      "hope: 0.3125\n",
      "so: 0.3125\n",
      "s: 0.3125\n",
      "t: 0.3125\n",
      "look: 0.3125\n",
      "way: 0.25\n",
      "My: 0.25\n",
      "http: 0.25\n",
      "smarter: 0.25\n",
      "\n",
      "@OREILLYFACTOR\n",
      "be: -0.6875\n",
      "Trump: -0.5625\n",
      "realDonaldTrump: -0.5\n",
      "on: -0.5\n",
      "at: -0.375\n",
      "Donald: -0.375\n",
      "more: -0.3125\n",
      "America: -0.3125\n",
      "did: -0.25\n",
      "great: -0.25\n",
      "and: -0.25\n",
      "President: -0.1875\n",
      "https: -0.1875\n",
      "love: -0.1875\n",
      "as: -0.1875\n",
      "good: -0.1875\n",
      "you: -0.1875\n",
      "watch: -0.1875\n",
      "my: -0.125\n",
      "Iran: -0.125\n"
     ]
    }
   ],
   "source": [
    "oppose(['@billmaher', '@oreillyfactor'])"
   ]
  },
  {
   "cell_type": "code",
   "execution_count": null,
   "metadata": {},
   "outputs": [],
   "source": []
  }
 ],
 "metadata": {
  "kernelspec": {
   "display_name": "Python 3",
   "language": "python",
   "name": "python3"
  },
  "language_info": {
   "codemirror_mode": {
    "name": "ipython",
    "version": 3
   },
   "file_extension": ".py",
   "mimetype": "text/x-python",
   "name": "python",
   "nbconvert_exporter": "python",
   "pygments_lexer": "ipython3",
   "version": "3.7.6"
  }
 },
 "nbformat": 4,
 "nbformat_minor": 4
}
